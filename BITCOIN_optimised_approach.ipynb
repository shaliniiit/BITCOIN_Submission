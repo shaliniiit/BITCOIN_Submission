{
  "nbformat": 4,
  "nbformat_minor": 0,
  "metadata": {
    "colab": {
      "name": "BITCOIN_optimised approach",
      "provenance": []
    },
    "kernelspec": {
      "name": "python3",
      "display_name": "Python 3"
    },
    "language_info": {
      "name": "python"
    }
  },
  "cells": [
    {
      "cell_type": "code",
      "metadata": {
        "id": "ABxzIXlIIVw5"
      },
      "source": [
        "import pandas as pd\n",
        "df = pd.read_csv('mempool.csv')\n",
        "data = df.values.tolist()"
      ],
      "execution_count": 2,
      "outputs": []
    },
    {
      "cell_type": "code",
      "metadata": {
        "id": "NINaKtWWm1Fz"
      },
      "source": [
        "#making a list of all tasks\n",
        "i = 0\n",
        "all_tasks = []\n",
        "while i<250:\n",
        "  if data[i][0] not in all_tasks:\n",
        "    all_tasks.append(data[i][0])\n",
        "  st = str(data[i][3])\n",
        "  p = st.split(';')\n",
        "  if(len(p)>0):\n",
        "    for j in p:\n",
        "      if j not in all_tasks:\n",
        "        all_tasks.append(j)\n",
        "  i = i+1\n",
        "if 'nan' in all_tasks:\n",
        "    all_tasks.remove('nan')"
      ],
      "execution_count": 3,
      "outputs": []
    },
    {
      "cell_type": "code",
      "metadata": {
        "id": "8bl7pkL8pNNN"
      },
      "source": [
        "#convert from task ID to task number\n",
        "task_id = {}\n",
        "number_task = {}\n",
        "i = 0\n",
        "while i<len(all_tasks):\n",
        "  task_id[all_tasks[i]] = i\n",
        "  number_task[i] = all_tasks[i]\n",
        "  i = i+1"
      ],
      "execution_count": 4,
      "outputs": []
    },
    {
      "cell_type": "code",
      "metadata": {
        "id": "GlyK7VRQJaVk"
      },
      "source": [
        "#create dependencies between parents and children\n",
        "import math\n",
        "i = 0\n",
        "indegree = {}\n",
        "adjacency_matrix = {}\n",
        "task_fee = {}\n",
        "task_weight = {}\n",
        "while i<len(data):\n",
        "  id = task_id[data[i][0]]\n",
        "  task_fee[id] = data[i][1]\n",
        "  task_weight[id] = data[i][2]\n",
        "  st = str(data[i][3])\n",
        "  p = st.split(';')\n",
        "  if(len(p)==1 and len(st)==3):\n",
        "      indegree[id] = 0\n",
        "      i = i+1\n",
        "      continue\n",
        "  indegree[id] = len(p)\n",
        "  for j in p:\n",
        "    id1 = task_id[j]\n",
        "    if id1 in adjacency_matrix.keys():\n",
        "        adjacency_matrix[id1].append(id)\n",
        "    else:\n",
        "        adjacency_matrix[id1] = []\n",
        "        adjacency_matrix[id1].append(id)\n",
        "  i = i+1"
      ],
      "execution_count": null,
      "outputs": []
    },
    {
      "cell_type": "code",
      "metadata": {
        "id": "WttCjHwb2iDv"
      },
      "source": [
        "def printknapSack(W, wt, val, n):\n",
        "  block = []\n",
        "  K = [[0 for w in range(W + 1)]\n",
        "\t\t\tfor i in range(n + 1)]\n",
        "  for i in range(n + 1):\n",
        "    for w in range(W + 1):\n",
        "      if i == 0 or w == 0:\n",
        "        K[i][w] = 0\n",
        "      elif wt[i - 1] <= w:\n",
        "        K[i][w] = max(val[i - 1] + K[i - 1][w - wt[i - 1]],K[i - 1][w])\n",
        "      else:\n",
        "        K[i][w] = K[i - 1][w]\n",
        "  res = K[n][W]\n",
        "  res1 = res\n",
        "  w = W\n",
        "  for i in range(n, 0, -1):\n",
        "    if res <= 0:\n",
        "      break\n",
        "    if res == K[i - 1][w]:\n",
        "      continue\n",
        "    else:\n",
        "      block.append(i-1)\n",
        "      res = res - val[i - 1]\n",
        "      w = w - wt[i - 1]\n",
        "  return w, res1, block\n"
      ],
      "execution_count": 5,
      "outputs": []
    },
    {
      "cell_type": "code",
      "metadata": {
        "id": "IT4b9jS-67ht"
      },
      "source": [
        " pre_tasks = []\n",
        " for i in indegree:\n",
        "   if(indegree[i]==0):\n",
        "     pre_tasks.append(i)#current group of valid tasks\n",
        "next_tasks = []\n",
        "task_list_final = []\n",
        "fee_final = 0\n",
        "W = 4000000\n",
        "while len(pre_tasks)>0:\n",
        "  print(\"tasks in queue\")\n",
        "  print(pre_tasks)\n",
        "  val = []\n",
        "  wt = []\n",
        "  for i in pre_tasks:\n",
        "    val.append(task_fee[i])\n",
        "    wt.append(task_weight[i])\n",
        "  n = len(val)\n",
        "  w, res, block = printknapSack(W, wt, val, n)\n",
        "  W = W - w #total value obtained from parent jobs\n",
        "  choose = [] #parents jobs that have been completed\n",
        "  for i in block:\n",
        "      indegree[pre_tasks[i]] = -1\n",
        "      choose.append(pre_tasks[i]) #parent job ids that have been completed\n",
        "  print(choose)\n",
        "  task_list_final = task_list_final + choose\n",
        "  fee_final = fee_final + res\n",
        "  for i in choose:\n",
        "      if i in adjacency_matrix.keys():\n",
        "        for j in adjacency_matrix[i]:\n",
        "          indegree[j] = indegree[j] - 1\n",
        "  for i in indegree:\n",
        "    if indegree[i] == 0:\n",
        "      next_tasks.append(i)\n",
        "  if next_tasks == pre_tasks:\n",
        "    break\n",
        "  if W == 0:\n",
        "    break\n",
        "  if next_tasks = []:\n",
        "    break\n",
        "  pre_tasks = next_tasks #updating present list of valid tasks\n",
        "  next_tasks = []"
      ],
      "execution_count": null,
      "outputs": []
    },
    {
      "cell_type": "code",
      "metadata": {
        "id": "Eyd-reo3Em_2"
      },
      "source": [
        "print(fee_final)\n",
        "print(task_list_final)"
      ],
      "execution_count": null,
      "outputs": []
    }
  ]
}