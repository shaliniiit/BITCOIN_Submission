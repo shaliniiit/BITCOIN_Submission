{
  "nbformat": 4,
  "nbformat_minor": 0,
  "metadata": {
    "colab": {
      "name": "BITCOIN Brute Force",
      "provenance": []
    },
    "kernelspec": {
      "name": "python3",
      "display_name": "Python 3"
    },
    "language_info": {
      "name": "python"
    }
  },
  "cells": [
    {
      "cell_type": "code",
      "metadata": {
        "id": "gfyr-XkvvTxZ"
      },
      "source": [
        "import sys\n",
        "sys.setrecursionlimit(5000)"
      ],
      "execution_count": null,
      "outputs": []
    },
    {
      "cell_type": "code",
      "metadata": {
        "id": "ABxzIXlIIVw5"
      },
      "source": [
        "import pandas as pd\n",
        "df = pd.read_csv('mempool.csv')\n",
        "data = df.values.tolist()"
      ],
      "execution_count": null,
      "outputs": []
    },
    {
      "cell_type": "code",
      "metadata": {
        "id": "GlyK7VRQJaVk"
      },
      "source": [
        "#create dependencies between parents and children\n",
        "import math\n",
        "i = 0\n",
        "task_id = {}\n",
        "indegree = {}\n",
        "adjacency_matrix = {}\n",
        "task_fee = {}\n",
        "task_weight = {}\n",
        "while i<len(data):\n",
        "  task_id[data[i][0]] = i\n",
        "  task_fee[data[i][0]] = data[i][1]\n",
        "  task_weight[data[i][0]] = data[i][2]\n",
        "  st = str(data[i][3])\n",
        "  p = st.split(';')\n",
        "  if(len(p)==1 and len(st)==3):\n",
        "      indegree[data[i][0]] = 0\n",
        "      i = i+1\n",
        "      continue\n",
        "  indegree[data[i][0]] = len(p)\n",
        "  for j in p:\n",
        "    if j in adjacency_matrix.keys():\n",
        "        adjacency_matrix[j].append(data[i][0])\n",
        "    else:\n",
        "        adjacency_matrix[j] = []\n",
        "        adjacency_matrix[j].append(data[i][0])\n",
        "  i = i+1\n",
        "#del adjacency_matrix['nan']"
      ],
      "execution_count": null,
      "outputs": []
    },
    {
      "cell_type": "code",
      "metadata": {
        "id": "51C8KrRnuBxB"
      },
      "source": [
        "global max_fee\n",
        "global ans \n",
        "max_fee = 0\n",
        "ans = []"
      ],
      "execution_count": null,
      "outputs": []
    },
    {
      "cell_type": "code",
      "metadata": {
        "id": "AOCiR_c9mOFH"
      },
      "source": [
        "#brute force appproach\n",
        "#function to generate different combinations of transactions in a block\n",
        "def helper(task_queue, task, weight_total, current_fee, completed):\n",
        "    global max_fee\n",
        "    global ans\n",
        "    if weight_total > 4000000:\n",
        "        return\n",
        "    if(indegree[task] != 0):#all parents not completed\n",
        "        return\n",
        "    if(completed[task] == 1):#task already completed\n",
        "        return\n",
        "    if(weight_total+task_weight[task]>4000000):#invalid task\n",
        "        return\n",
        "    weight_total = weight_total + task_weight[task]#add task to task_queue\n",
        "    completed[task] = 1\n",
        "    task_queue.append(task)\n",
        "    current_fee = current_fee + task_fee[task]\n",
        "    if(current_fee>max_fee):\n",
        "        max_fee = current_fee\n",
        "        ans = task_queue\n",
        "    if task in adjacency_matrix.keys():\n",
        "        for j in adjacency_matrix[task]:\n",
        "            indegree[j] = indegree[j]-1\n",
        "            helper(task_queue, j, weight_total, current_fee, completed)\n",
        "            completed[j] = 0\n",
        "    else:\n",
        "      for t in indegree:\n",
        "          if(indegree[t]==0 and completed[t] == 0):\n",
        "              helper(task_queue, t, weight_total, current_fee, completed)\n",
        "              completed[t] = 0\n"
      ],
      "execution_count": null,
      "outputs": []
    },
    {
      "cell_type": "code",
      "metadata": {
        "id": "rcaP9vjXsBmJ"
      },
      "source": [
        "for tsk in indegree:\n",
        "    if(indegree[tsk] == 0):\n",
        "        task_queue = []\n",
        "        current_fee = 0\n",
        "        weight_total = 0\n",
        "        completed = {key: 0 for key in indegree}\n",
        "        helper(task_queue, tsk, weight_total, current_fee, completed)"
      ],
      "execution_count": null,
      "outputs": []
    },
    {
      "cell_type": "code",
      "metadata": {
        "id": "asZFie7GwZIY"
      },
      "source": [
        "print(max_fee)\n",
        "print(ans)"
      ],
      "execution_count": null,
      "outputs": []
    }
  ]
}